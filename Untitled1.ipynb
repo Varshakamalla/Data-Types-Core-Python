{
 "cells": [
  {
   "cell_type": "code",
   "execution_count": 11,
   "id": "ff3af461",
   "metadata": {},
   "outputs": [
    {
     "name": "stdout",
     "output_type": "stream",
     "text": [
      "Enter the password : VARSHA@1234\n",
      "Password should contain at least 1 uppercase letter, 1 lowercase letter, 1 digit, and 1 special character.\n"
     ]
    }
   ],
   "source": [
    "import string\n",
    "def check_pass(password):\n",
    "    if len(password) < 10 or len(password) > 15:\n",
    "        return \"Weak: Password should be at least 10 characters and at most 15 characters.\"\n",
    "    if not any(char.isupper() for char in password) or not any(char.islower() for char in password) or not any(char.isdigit() for char in password) or not any(char in string.punctuation for char in password):\n",
    "        return \"Password should contain at least 1 uppercase letter, 1 lowercase letter, 1 digit, and 1 special character.\"\n",
    "    if password[-1] == '.' or password[-1] == '@':\n",
    "        return \"Password should not end with a dot (.) or @ symbol.\"\n",
    "    if any(char.isspace() for char in password):\n",
    "        return \"Password should not contain white spaces.\"\n",
    "    return \"Password is strong.\"\n",
    "password = input(\"Enter the password : \")\n",
    "print(check_pass(password)) "
   ]
  },
  {
   "cell_type": "code",
   "execution_count": null,
   "id": "076c7289",
   "metadata": {},
   "outputs": [],
   "source": [
    "  "
   ]
  },
  {
   "cell_type": "code",
   "execution_count": 13,
   "id": "41c429b8",
   "metadata": {},
   "outputs": [
    {
     "name": "stdout",
     "output_type": "stream",
     "text": [
      "Enter the number: 5\n",
      "120\n"
     ]
    }
   ],
   "source": [
    "def fact(n):\n",
    "    factorial = 1\n",
    "    for i in range(1, n + 1): \n",
    "        factorial *= i  \n",
    "    return factorial  \n",
    "\n",
    "n = int(input(\"Enter the number: \"))  \n",
    "x = fact(n) \n",
    "print(x) \n"
   ]
  },
  {
   "cell_type": "code",
   "execution_count": 36,
   "id": "8a74d73d",
   "metadata": {},
   "outputs": [
    {
     "name": "stdout",
     "output_type": "stream",
     "text": [
      "Enter the number: 3\n",
      "Prime\n"
     ]
    }
   ],
   "source": [
    "def prime(n):\n",
    "    if n <= 1:\n",
    "        print(\"Enter a number greater than 1\")\n",
    "    else:\n",
    "        for i in range(2, int(n**0.5) + 1):\n",
    "            if n % i == 0:\n",
    "                print(\"Not a prime\")\n",
    "                break \n",
    "        else:\n",
    "            print(\"Prime\") \n",
    "n = int(input(\"Enter the number: \"))\n",
    "prime(n)\n"
   ]
  },
  {
   "cell_type": "code",
   "execution_count": 22,
   "id": "537236e8",
   "metadata": {
    "scrolled": true
   },
   "outputs": [
    {
     "name": "stdout",
     "output_type": "stream",
     "text": [
      "[1, 2, 3, 4, [6, 7, 8]]\n",
      "6\n"
     ]
    }
   ],
   "source": [
    "a=[1,2,3,4]\n",
    "b=[6,7,8]\n",
    "a.append(b)\n",
    "print(a)\n",
    "print(a[4][0])"
   ]
  },
  {
   "cell_type": "code",
   "execution_count": 24,
   "id": "88ba38c1",
   "metadata": {},
   "outputs": [
    {
     "name": "stdout",
     "output_type": "stream",
     "text": [
      "[66, 89, 67, 44, 66]\n"
     ]
    }
   ],
   "source": [
    "a=[66,89,67,44,66,100]\n",
    "a.pop()\n",
    "print(a)"
   ]
  },
  {
   "cell_type": "code",
   "execution_count": 31,
   "id": "b40a99e2",
   "metadata": {},
   "outputs": [
    {
     "name": "stdout",
     "output_type": "stream",
     "text": [
      "dict_items([(12, 'ramesh'), (13, 'ragava')])\n"
     ]
    }
   ],
   "source": [
    "dict={12:\"ramesh\",13:\"hello\"}\n",
    "dict[13]=\"ragava\"\n",
    "print(dict.items())"
   ]
  },
  {
   "cell_type": "code",
   "execution_count": 29,
   "id": "9a11ced0",
   "metadata": {},
   "outputs": [
    {
     "name": "stdout",
     "output_type": "stream",
     "text": [
      "<class 'dict'>\n"
     ]
    }
   ],
   "source": [
    "a={}\n",
    "print(type(a))"
   ]
  },
  {
   "cell_type": "code",
   "execution_count": 34,
   "id": "b2d7e84c",
   "metadata": {},
   "outputs": [
    {
     "name": "stdout",
     "output_type": "stream",
     "text": [
      "{'Laptop': 50000, 'HeadPhones': 2000, 'Mouse': 35000, 'keyboard': 1500, 'monitor': 8000, 'usb': 1000}\n",
      "total price:72250.0\n"
     ]
    }
   ],
   "source": [
    "def calculate_total(cart_items):\n",
    "    if not cart_items:\n",
    "        return \"empty\"\n",
    "    total=0\n",
    "    for product,cost in cart_items.items():\n",
    "        if cost>25000:\n",
    "            total+=cost\n",
    "    \n",
    "    if total>=20000 and total<=50000:\n",
    "        total*=0.9\n",
    "        return total\n",
    "    if total>50000:\n",
    "        total*=0.85\n",
    "        return total\n",
    "cart_items={'Laptop':50000,'HeadPhones':2000,'Mouse':35000,'keyboard':1500,'monitor':8000,'usb':1000}\n",
    "print(cart_items)\n",
    "print(f\"total price:{calculate_total(cart_items)}\")"
   ]
  },
  {
   "cell_type": "code",
   "execution_count": 38,
   "id": "76e2e969",
   "metadata": {},
   "outputs": [
    {
     "name": "stdout",
     "output_type": "stream",
     "text": [
      "Enter the year2004\n",
      "True\n"
     ]
    }
   ],
   "source": [
    "import calendar\n",
    "def leap_year(year):\n",
    "    return calendar.isleap(year)\n",
    "year=int(input(\"Enter the year\"))\n",
    "x=leap_year(year)\n",
    "print(x)\n",
    "    "
   ]
  },
  {
   "cell_type": "code",
   "execution_count": null,
   "id": "b2453455",
   "metadata": {},
   "outputs": [],
   "source": []
  }
 ],
 "metadata": {
  "kernelspec": {
   "display_name": "Python 3 (ipykernel)",
   "language": "python",
   "name": "python3"
  },
  "language_info": {
   "codemirror_mode": {
    "name": "ipython",
    "version": 3
   },
   "file_extension": ".py",
   "mimetype": "text/x-python",
   "name": "python",
   "nbconvert_exporter": "python",
   "pygments_lexer": "ipython3",
   "version": "3.11.5"
  }
 },
 "nbformat": 4,
 "nbformat_minor": 5
}
